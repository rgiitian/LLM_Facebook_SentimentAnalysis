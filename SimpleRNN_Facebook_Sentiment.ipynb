{
 "cells": [
  {
   "cell_type": "code",
   "execution_count": 3,
   "id": "49b45fca",
   "metadata": {},
   "outputs": [
    {
     "data": {
      "text/plain": [
       "['Assignment 1 - Facebook Post Classification.ipynb',\n",
       " 'FB_posts_labeled.txt',\n",
       " 'FB_posts_unlabeled.txt',\n",
       " 'Text Preprocessing and Representation Learning.html']"
      ]
     },
     "execution_count": 3,
     "metadata": {},
     "output_type": "execute_result"
    }
   ],
   "source": [
    "import os \n",
    "import pandas as pd\n",
    "import numpy as np\n",
    "\n",
    "os.chdir('S:/Spring/NLP')\n",
    "os.listdir()"
   ]
  },
  {
   "cell_type": "code",
   "execution_count": 4,
   "id": "d5fa57ed",
   "metadata": {},
   "outputs": [
    {
     "data": {
      "text/plain": [
       "(2039, 2)"
      ]
     },
     "execution_count": 4,
     "metadata": {},
     "output_type": "execute_result"
    }
   ],
   "source": [
    "df_post_label = pd.read_csv(\"FB_posts_labeled.txt\",header=0,delimiter=\"\\t\")\n",
    "df_test = pd.read_csv('FB_posts_unlabeled.txt',header=0,sep = '\\t')\n",
    "\n",
    "df_test.shape"
   ]
  },
  {
   "cell_type": "code",
   "execution_count": 5,
   "id": "c89aeffc",
   "metadata": {},
   "outputs": [
    {
     "data": {
      "text/html": [
       "<div>\n",
       "<style scoped>\n",
       "    .dataframe tbody tr th:only-of-type {\n",
       "        vertical-align: middle;\n",
       "    }\n",
       "\n",
       "    .dataframe tbody tr th {\n",
       "        vertical-align: top;\n",
       "    }\n",
       "\n",
       "    .dataframe thead th {\n",
       "        text-align: right;\n",
       "    }\n",
       "</style>\n",
       "<table border=\"1\" class=\"dataframe\">\n",
       "  <thead>\n",
       "    <tr style=\"text-align: right;\">\n",
       "      <th></th>\n",
       "      <th>postId</th>\n",
       "      <th>message</th>\n",
       "      <th>Appreciation</th>\n",
       "      <th>Complaint</th>\n",
       "      <th>Feedback</th>\n",
       "      <th>label</th>\n",
       "      <th>label_encoded</th>\n",
       "    </tr>\n",
       "  </thead>\n",
       "  <tbody>\n",
       "    <tr>\n",
       "      <th>0</th>\n",
       "      <td>126016648090_10150802142013091</td>\n",
       "      <td>Great ! ;)</td>\n",
       "      <td>1</td>\n",
       "      <td>0</td>\n",
       "      <td>0</td>\n",
       "      <td>Appreciation</td>\n",
       "      <td>0</td>\n",
       "    </tr>\n",
       "    <tr>\n",
       "      <th>1</th>\n",
       "      <td>108381603303_10151136215833304</td>\n",
       "      <td>YUM! YUM!</td>\n",
       "      <td>1</td>\n",
       "      <td>0</td>\n",
       "      <td>0</td>\n",
       "      <td>Appreciation</td>\n",
       "      <td>0</td>\n",
       "    </tr>\n",
       "    <tr>\n",
       "      <th>2</th>\n",
       "      <td>108381603303_3913438087739</td>\n",
       "      <td>Yummm :))</td>\n",
       "      <td>1</td>\n",
       "      <td>0</td>\n",
       "      <td>0</td>\n",
       "      <td>Appreciation</td>\n",
       "      <td>0</td>\n",
       "    </tr>\n",
       "    <tr>\n",
       "      <th>3</th>\n",
       "      <td>110455108974424_343049739048292</td>\n",
       "      <td>sweet</td>\n",
       "      <td>1</td>\n",
       "      <td>0</td>\n",
       "      <td>0</td>\n",
       "      <td>Appreciation</td>\n",
       "      <td>0</td>\n",
       "    </tr>\n",
       "    <tr>\n",
       "      <th>4</th>\n",
       "      <td>110455108974424_350358541650745</td>\n",
       "      <td>nice</td>\n",
       "      <td>1</td>\n",
       "      <td>0</td>\n",
       "      <td>0</td>\n",
       "      <td>Appreciation</td>\n",
       "      <td>0</td>\n",
       "    </tr>\n",
       "  </tbody>\n",
       "</table>\n",
       "</div>"
      ],
      "text/plain": [
       "                            postId     message  Appreciation  Complaint  \\\n",
       "0   126016648090_10150802142013091  Great ! ;)             1          0   \n",
       "1   108381603303_10151136215833304   YUM! YUM!             1          0   \n",
       "2       108381603303_3913438087739   Yummm :))             1          0   \n",
       "3  110455108974424_343049739048292       sweet             1          0   \n",
       "4  110455108974424_350358541650745        nice             1          0   \n",
       "\n",
       "   Feedback         label  label_encoded  \n",
       "0         0  Appreciation              0  \n",
       "1         0  Appreciation              0  \n",
       "2         0  Appreciation              0  \n",
       "3         0  Appreciation              0  \n",
       "4         0  Appreciation              0  "
      ]
     },
     "execution_count": 5,
     "metadata": {},
     "output_type": "execute_result"
    }
   ],
   "source": [
    "from sklearn.preprocessing import LabelEncoder\n",
    "\n",
    "label_cols = ['Appreciation', 'Complaint', 'Feedback']\n",
    "df_post_label[label_cols] = df_post_label[label_cols].apply(pd.to_numeric, axis = 1, errors = 'coerce')\n",
    "\n",
    "df_post_label['label']= df_post_label[['Appreciation', 'Complaint', 'Feedback']].idxmax(axis = 1)\n",
    "df_post_label.head()\n",
    "\n",
    "\n",
    "\n",
    "le = LabelEncoder()\n",
    "df_post_label['label_encoded'] = le.fit_transform(df_post_label['label'])\n",
    "df_post_label.head()"
   ]
  },
  {
   "cell_type": "code",
   "execution_count": 5,
   "id": "81c64a75",
   "metadata": {},
   "outputs": [
    {
     "data": {
      "text/plain": [
       "{0: 0, 1: 1, 2: 2}"
      ]
     },
     "execution_count": 5,
     "metadata": {},
     "output_type": "execute_result"
    }
   ],
   "source": [
    "label_dict = {label: index for index, label in enumerate(set(df_post_label['label_encoded']))}\n",
    "label_dict"
   ]
  },
  {
   "cell_type": "code",
   "execution_count": 20,
   "id": "b2d9a82e",
   "metadata": {},
   "outputs": [
    {
     "data": {
      "text/html": [
       "<div>\n",
       "<style scoped>\n",
       "    .dataframe tbody tr th:only-of-type {\n",
       "        vertical-align: middle;\n",
       "    }\n",
       "\n",
       "    .dataframe tbody tr th {\n",
       "        vertical-align: top;\n",
       "    }\n",
       "\n",
       "    .dataframe thead th {\n",
       "        text-align: right;\n",
       "    }\n",
       "</style>\n",
       "<table border=\"1\" class=\"dataframe\">\n",
       "  <thead>\n",
       "    <tr style=\"text-align: right;\">\n",
       "      <th></th>\n",
       "      <th>postId</th>\n",
       "      <th>message</th>\n",
       "      <th>Appreciation</th>\n",
       "      <th>Complaint</th>\n",
       "      <th>Feedback</th>\n",
       "      <th>label</th>\n",
       "      <th>label_encoded</th>\n",
       "    </tr>\n",
       "  </thead>\n",
       "  <tbody>\n",
       "    <tr>\n",
       "      <th>0</th>\n",
       "      <td>126016648090_10150802142013091</td>\n",
       "      <td>great</td>\n",
       "      <td>1</td>\n",
       "      <td>0</td>\n",
       "      <td>0</td>\n",
       "      <td>Appreciation</td>\n",
       "      <td>0</td>\n",
       "    </tr>\n",
       "    <tr>\n",
       "      <th>1</th>\n",
       "      <td>108381603303_10151136215833304</td>\n",
       "      <td>yum yum</td>\n",
       "      <td>1</td>\n",
       "      <td>0</td>\n",
       "      <td>0</td>\n",
       "      <td>Appreciation</td>\n",
       "      <td>0</td>\n",
       "    </tr>\n",
       "    <tr>\n",
       "      <th>2</th>\n",
       "      <td>108381603303_3913438087739</td>\n",
       "      <td>yummm</td>\n",
       "      <td>1</td>\n",
       "      <td>0</td>\n",
       "      <td>0</td>\n",
       "      <td>Appreciation</td>\n",
       "      <td>0</td>\n",
       "    </tr>\n",
       "    <tr>\n",
       "      <th>3</th>\n",
       "      <td>110455108974424_343049739048292</td>\n",
       "      <td>sweet</td>\n",
       "      <td>1</td>\n",
       "      <td>0</td>\n",
       "      <td>0</td>\n",
       "      <td>Appreciation</td>\n",
       "      <td>0</td>\n",
       "    </tr>\n",
       "    <tr>\n",
       "      <th>4</th>\n",
       "      <td>110455108974424_350358541650745</td>\n",
       "      <td>nice</td>\n",
       "      <td>1</td>\n",
       "      <td>0</td>\n",
       "      <td>0</td>\n",
       "      <td>Appreciation</td>\n",
       "      <td>0</td>\n",
       "    </tr>\n",
       "  </tbody>\n",
       "</table>\n",
       "</div>"
      ],
      "text/plain": [
       "                            postId  message  Appreciation  Complaint  \\\n",
       "0   126016648090_10150802142013091  great               1          0   \n",
       "1   108381603303_10151136215833304  yum yum             1          0   \n",
       "2       108381603303_3913438087739   yummm              1          0   \n",
       "3  110455108974424_343049739048292    sweet             1          0   \n",
       "4  110455108974424_350358541650745     nice             1          0   \n",
       "\n",
       "   Feedback         label  label_encoded  \n",
       "0         0  Appreciation              0  \n",
       "1         0  Appreciation              0  \n",
       "2         0  Appreciation              0  \n",
       "3         0  Appreciation              0  \n",
       "4         0  Appreciation              0  "
      ]
     },
     "execution_count": 20,
     "metadata": {},
     "output_type": "execute_result"
    }
   ],
   "source": [
    "import re\n",
    "df_post_label['message'] = df_post_label['message'].apply(lambda x: x.lower())\n",
    "df_post_label['message'] = df_post_label['message'].apply((lambda x: re.sub('[^a-zA-z0-9\\s]','',x)))\n",
    "df_post_label.head()"
   ]
  },
  {
   "cell_type": "code",
   "execution_count": 30,
   "id": "4db528d6",
   "metadata": {},
   "outputs": [],
   "source": [
    "from keras.preprocessing.text import Tokenizer\n",
    "from keras.utils import pad_sequences\n",
    "\n",
    "max_fatures = 2000\n",
    "max_len = 130\n",
    "tokenizer = Tokenizer(num_words=max_fatures, split=' ')\n",
    "tokenizer.fit_on_texts(df_post_label['message'].values)\n",
    "X = tokenizer.texts_to_sequences(df_post_label['message'].values)\n",
    "X = pad_sequences(X, maxlen = max_len)"
   ]
  },
  {
   "cell_type": "code",
   "execution_count": 31,
   "id": "d7fa695f",
   "metadata": {},
   "outputs": [
    {
     "data": {
      "text/plain": [
       "(7961, 130)"
      ]
     },
     "execution_count": 31,
     "metadata": {},
     "output_type": "execute_result"
    }
   ],
   "source": [
    "X.shape"
   ]
  },
  {
   "cell_type": "code",
   "execution_count": 9,
   "id": "b0677356",
   "metadata": {},
   "outputs": [
    {
     "data": {
      "text/plain": [
       "array([[1, 0, 0],\n",
       "       [1, 0, 0],\n",
       "       [1, 0, 0],\n",
       "       ...,\n",
       "       [0, 1, 0],\n",
       "       [0, 1, 0],\n",
       "       [0, 1, 0]], dtype=uint8)"
      ]
     },
     "execution_count": 9,
     "metadata": {},
     "output_type": "execute_result"
    }
   ],
   "source": [
    "from sklearn.model_selection import train_test_split\n",
    "\n",
    "Y = pd.get_dummies(df_post_label['label_encoded']).values\n",
    "Y\n",
    "# X_train, X_test, Y_train, Y_test = train_test_split(X,Y, test_size = 0.33, random_state = 42)\n",
    "# print(X_train.shape,Y_train.shape)\n",
    "# print(X_test.shape,Y_test.shape)"
   ]
  },
  {
   "cell_type": "code",
   "execution_count": null,
   "id": "84a4450f",
   "metadata": {},
   "outputs": [],
   "source": [
    "Y_train"
   ]
  },
  {
   "cell_type": "code",
   "execution_count": 44,
   "id": "3fb65ceb",
   "metadata": {},
   "outputs": [
    {
     "name": "stdout",
     "output_type": "stream",
     "text": [
      "Model: \"sequential_2\"\n",
      "_________________________________________________________________\n",
      " Layer (type)                Output Shape              Param #   \n",
      "=================================================================\n",
      " embedding_2 (Embedding)     (None, 130, 200)          400000    \n",
      "                                                                 \n",
      " spatial_dropout1d_2 (Spatia  (None, 130, 200)         0         \n",
      " lDropout1D)                                                     \n",
      "                                                                 \n",
      " lstm_2 (LSTM)               (None, 64)                67840     \n",
      "                                                                 \n",
      " dense_2 (Dense)             (None, 3)                 195       \n",
      "                                                                 \n",
      "=================================================================\n",
      "Total params: 468,035\n",
      "Trainable params: 468,035\n",
      "Non-trainable params: 0\n",
      "_________________________________________________________________\n",
      "None\n"
     ]
    }
   ],
   "source": [
    "from keras.models import Sequential\n",
    "from keras.layers import Dense, Embedding, LSTM, SpatialDropout1D\n",
    "\n",
    "embed_dim = 200\n",
    "lstm_out = 64\n",
    "model = Sequential()\n",
    "model.add(Embedding(max_fatures, embed_dim, input_length = X.shape[1]))\n",
    "model.add(SpatialDropout1D(0.4))\n",
    "model.add(LSTM(lstm_out, dropout=0.2, recurrent_dropout=0.2))\n",
    "model.add(Dense(3,activation='softmax'))\n",
    "model.compile(loss = 'categorical_crossentropy', optimizer='adam', metrics = ['accuracy'])\n",
    "print(model.summary())"
   ]
  },
  {
   "cell_type": "code",
   "execution_count": 45,
   "id": "d94d441e",
   "metadata": {},
   "outputs": [
    {
     "name": "stdout",
     "output_type": "stream",
     "text": [
      "Epoch 1/2\n",
      "125/125 - 59s - loss: 0.8133 - accuracy: 0.6364 - 59s/epoch - 472ms/step\n",
      "Epoch 2/2\n",
      "125/125 - 57s - loss: 0.4917 - accuracy: 0.8157 - 57s/epoch - 453ms/step\n"
     ]
    }
   ],
   "source": [
    "# Here we train the model\n",
    "batch_size = 64\n",
    "hist = model.fit(X, Y, epochs = 2, batch_size=batch_size, verbose = 2)"
   ]
  },
  {
   "cell_type": "code",
   "execution_count": 35,
   "id": "d4bedd13",
   "metadata": {},
   "outputs": [
    {
     "data": {
      "text/html": [
       "<div>\n",
       "<style scoped>\n",
       "    .dataframe tbody tr th:only-of-type {\n",
       "        vertical-align: middle;\n",
       "    }\n",
       "\n",
       "    .dataframe tbody tr th {\n",
       "        vertical-align: top;\n",
       "    }\n",
       "\n",
       "    .dataframe thead th {\n",
       "        text-align: right;\n",
       "    }\n",
       "</style>\n",
       "<table border=\"1\" class=\"dataframe\">\n",
       "  <thead>\n",
       "    <tr style=\"text-align: right;\">\n",
       "      <th></th>\n",
       "      <th>postId</th>\n",
       "      <th>message</th>\n",
       "    </tr>\n",
       "  </thead>\n",
       "  <tbody>\n",
       "    <tr>\n",
       "      <th>0</th>\n",
       "      <td>108381603303_10151119973393304</td>\n",
       "      <td>love it to</td>\n",
       "    </tr>\n",
       "    <tr>\n",
       "      <th>1</th>\n",
       "      <td>115568331790246_371841206162956</td>\n",
       "      <td>nice</td>\n",
       "    </tr>\n",
       "    <tr>\n",
       "      <th>2</th>\n",
       "      <td>115568331790246_515044031842672</td>\n",
       "      <td>congrats</td>\n",
       "    </tr>\n",
       "    <tr>\n",
       "      <th>3</th>\n",
       "      <td>147285781446_10151010892176447</td>\n",
       "      <td>awesome</td>\n",
       "    </tr>\n",
       "    <tr>\n",
       "      <th>4</th>\n",
       "      <td>159616034235_10150639103634236</td>\n",
       "      <td>award</td>\n",
       "    </tr>\n",
       "    <tr>\n",
       "      <th>...</th>\n",
       "      <td>...</td>\n",
       "      <td>...</td>\n",
       "    </tr>\n",
       "    <tr>\n",
       "      <th>2034</th>\n",
       "      <td>179590995428478_422375854483323</td>\n",
       "      <td>you guys are terrible holding goverment checks...</td>\n",
       "    </tr>\n",
       "    <tr>\n",
       "      <th>2035</th>\n",
       "      <td>125472670805257_525103854175468</td>\n",
       "      <td>as i platinum elite member of delta and a loya...</td>\n",
       "    </tr>\n",
       "    <tr>\n",
       "      <th>2036</th>\n",
       "      <td>179590995428478_377568608964048</td>\n",
       "      <td>really</td>\n",
       "    </tr>\n",
       "    <tr>\n",
       "      <th>2037</th>\n",
       "      <td>179590995428478_341070505947192</td>\n",
       "      <td>horrible decision</td>\n",
       "    </tr>\n",
       "    <tr>\n",
       "      <th>2038</th>\n",
       "      <td>60686173217_10151073988283218</td>\n",
       "      <td>this is a true story of what happened to me to...</td>\n",
       "    </tr>\n",
       "  </tbody>\n",
       "</table>\n",
       "<p>2039 rows × 2 columns</p>\n",
       "</div>"
      ],
      "text/plain": [
       "                               postId  \\\n",
       "0      108381603303_10151119973393304   \n",
       "1     115568331790246_371841206162956   \n",
       "2     115568331790246_515044031842672   \n",
       "3      147285781446_10151010892176447   \n",
       "4      159616034235_10150639103634236   \n",
       "...                               ...   \n",
       "2034  179590995428478_422375854483323   \n",
       "2035  125472670805257_525103854175468   \n",
       "2036  179590995428478_377568608964048   \n",
       "2037  179590995428478_341070505947192   \n",
       "2038    60686173217_10151073988283218   \n",
       "\n",
       "                                                message  \n",
       "0                                            love it to  \n",
       "1                                                  nice  \n",
       "2                                              congrats  \n",
       "3                                               awesome  \n",
       "4                                                 award  \n",
       "...                                                 ...  \n",
       "2034  you guys are terrible holding goverment checks...  \n",
       "2035  as i platinum elite member of delta and a loya...  \n",
       "2036                                             really  \n",
       "2037                                  horrible decision  \n",
       "2038  this is a true story of what happened to me to...  \n",
       "\n",
       "[2039 rows x 2 columns]"
      ]
     },
     "execution_count": 35,
     "metadata": {},
     "output_type": "execute_result"
    }
   ],
   "source": [
    "\n",
    "\n",
    "df_test['message'] = df_test['message'].apply(lambda x: x.lower())\n",
    "df_test['message'] = df_test['message'].apply((lambda x: re.sub('[^a-zA-z0-9\\s]','',x)))\n",
    "\n",
    "df_test\n"
   ]
  },
  {
   "cell_type": "code",
   "execution_count": 36,
   "id": "f4adc8be",
   "metadata": {},
   "outputs": [
    {
     "data": {
      "text/plain": [
       "array([[   0,    0,    0, ...,   84,   13,    2],\n",
       "       [   0,    0,    0, ...,    0,    0,  349],\n",
       "       [   0,    0,    0, ...,    0,    0, 1928],\n",
       "       ...,\n",
       "       [   0,    0,    0, ...,    0,    0,   73],\n",
       "       [   0,    0,    0, ...,    0,  460,  604],\n",
       "       [ 168,  307,    6, ...,    2,  101,   52]])"
      ]
     },
     "execution_count": 36,
     "metadata": {},
     "output_type": "execute_result"
    }
   ],
   "source": [
    "max_fatures = 2000\n",
    "tokenizer = Tokenizer(num_words=max_fatures, split=' ')\n",
    "tokenizer.fit_on_texts(df_test['message'].values)\n",
    "X_test = tokenizer.texts_to_sequences(df_test['message'].values)\n",
    "X_test = pad_sequences(X_test, maxlen = max_len)\n",
    "X_test"
   ]
  },
  {
   "cell_type": "code",
   "execution_count": 46,
   "id": "51928005",
   "metadata": {},
   "outputs": [
    {
     "data": {
      "text/plain": [
       "(2039, 130)"
      ]
     },
     "execution_count": 46,
     "metadata": {},
     "output_type": "execute_result"
    }
   ],
   "source": [
    "X_test.shape"
   ]
  },
  {
   "cell_type": "code",
   "execution_count": 47,
   "id": "5421cd48",
   "metadata": {},
   "outputs": [
    {
     "name": "stdout",
     "output_type": "stream",
     "text": [
      "Model: \"sequential_2\"\n",
      "_________________________________________________________________\n",
      " Layer (type)                Output Shape              Param #   \n",
      "=================================================================\n",
      " embedding_2 (Embedding)     (None, 130, 200)          400000    \n",
      "                                                                 \n",
      " spatial_dropout1d_2 (Spatia  (None, 130, 200)         0         \n",
      " lDropout1D)                                                     \n",
      "                                                                 \n",
      " lstm_2 (LSTM)               (None, 64)                67840     \n",
      "                                                                 \n",
      " dense_2 (Dense)             (None, 3)                 195       \n",
      "                                                                 \n",
      "=================================================================\n",
      "Total params: 468,035\n",
      "Trainable params: 468,035\n",
      "Non-trainable params: 0\n",
      "_________________________________________________________________\n"
     ]
    }
   ],
   "source": [
    "model.summary()"
   ]
  },
  {
   "cell_type": "code",
   "execution_count": 25,
   "id": "58411dc8",
   "metadata": {},
   "outputs": [
    {
     "data": {
      "text/plain": [
       "(2039, 631)"
      ]
     },
     "execution_count": 25,
     "metadata": {},
     "output_type": "execute_result"
    }
   ],
   "source": [
    "X_test.shape"
   ]
  },
  {
   "cell_type": "code",
   "execution_count": 48,
   "id": "6aa748e8",
   "metadata": {},
   "outputs": [
    {
     "name": "stdout",
     "output_type": "stream",
     "text": [
      "64/64 [==============================] - 3s 36ms/step\n"
     ]
    },
    {
     "data": {
      "text/plain": [
       "array([0.10398594, 0.25258347, 0.6434306 ], dtype=float32)"
      ]
     },
     "execution_count": 48,
     "metadata": {},
     "output_type": "execute_result"
    }
   ],
   "source": [
    "predict_raw = model.predict(X_test)\n",
    "predict_raw[0]"
   ]
  },
  {
   "cell_type": "code",
   "execution_count": 49,
   "id": "8d5e3ff0",
   "metadata": {},
   "outputs": [
    {
     "data": {
      "text/html": [
       "<div>\n",
       "<style scoped>\n",
       "    .dataframe tbody tr th:only-of-type {\n",
       "        vertical-align: middle;\n",
       "    }\n",
       "\n",
       "    .dataframe tbody tr th {\n",
       "        vertical-align: top;\n",
       "    }\n",
       "\n",
       "    .dataframe thead th {\n",
       "        text-align: right;\n",
       "    }\n",
       "</style>\n",
       "<table border=\"1\" class=\"dataframe\">\n",
       "  <thead>\n",
       "    <tr style=\"text-align: right;\">\n",
       "      <th></th>\n",
       "      <th>postId</th>\n",
       "      <th>message</th>\n",
       "      <th>category</th>\n",
       "    </tr>\n",
       "  </thead>\n",
       "  <tbody>\n",
       "    <tr>\n",
       "      <th>0</th>\n",
       "      <td>108381603303_10151119973393304</td>\n",
       "      <td>love it to</td>\n",
       "      <td>2</td>\n",
       "    </tr>\n",
       "    <tr>\n",
       "      <th>1</th>\n",
       "      <td>115568331790246_371841206162956</td>\n",
       "      <td>nice</td>\n",
       "      <td>1</td>\n",
       "    </tr>\n",
       "    <tr>\n",
       "      <th>2</th>\n",
       "      <td>115568331790246_515044031842672</td>\n",
       "      <td>congrats</td>\n",
       "      <td>1</td>\n",
       "    </tr>\n",
       "    <tr>\n",
       "      <th>3</th>\n",
       "      <td>147285781446_10151010892176447</td>\n",
       "      <td>awesome</td>\n",
       "      <td>0</td>\n",
       "    </tr>\n",
       "    <tr>\n",
       "      <th>4</th>\n",
       "      <td>159616034235_10150639103634236</td>\n",
       "      <td>award</td>\n",
       "      <td>1</td>\n",
       "    </tr>\n",
       "    <tr>\n",
       "      <th>...</th>\n",
       "      <td>...</td>\n",
       "      <td>...</td>\n",
       "      <td>...</td>\n",
       "    </tr>\n",
       "    <tr>\n",
       "      <th>2034</th>\n",
       "      <td>179590995428478_422375854483323</td>\n",
       "      <td>you guys are terrible holding goverment checks...</td>\n",
       "      <td>1</td>\n",
       "    </tr>\n",
       "    <tr>\n",
       "      <th>2035</th>\n",
       "      <td>125472670805257_525103854175468</td>\n",
       "      <td>as i platinum elite member of delta and a loya...</td>\n",
       "      <td>1</td>\n",
       "    </tr>\n",
       "    <tr>\n",
       "      <th>2036</th>\n",
       "      <td>179590995428478_377568608964048</td>\n",
       "      <td>really</td>\n",
       "      <td>1</td>\n",
       "    </tr>\n",
       "    <tr>\n",
       "      <th>2037</th>\n",
       "      <td>179590995428478_341070505947192</td>\n",
       "      <td>horrible decision</td>\n",
       "      <td>1</td>\n",
       "    </tr>\n",
       "    <tr>\n",
       "      <th>2038</th>\n",
       "      <td>60686173217_10151073988283218</td>\n",
       "      <td>this is a true story of what happened to me to...</td>\n",
       "      <td>1</td>\n",
       "    </tr>\n",
       "  </tbody>\n",
       "</table>\n",
       "<p>2039 rows × 3 columns</p>\n",
       "</div>"
      ],
      "text/plain": [
       "                               postId  \\\n",
       "0      108381603303_10151119973393304   \n",
       "1     115568331790246_371841206162956   \n",
       "2     115568331790246_515044031842672   \n",
       "3      147285781446_10151010892176447   \n",
       "4      159616034235_10150639103634236   \n",
       "...                               ...   \n",
       "2034  179590995428478_422375854483323   \n",
       "2035  125472670805257_525103854175468   \n",
       "2036  179590995428478_377568608964048   \n",
       "2037  179590995428478_341070505947192   \n",
       "2038    60686173217_10151073988283218   \n",
       "\n",
       "                                                message  category  \n",
       "0                                            love it to         2  \n",
       "1                                                  nice         1  \n",
       "2                                              congrats         1  \n",
       "3                                               awesome         0  \n",
       "4                                                 award         1  \n",
       "...                                                 ...       ...  \n",
       "2034  you guys are terrible holding goverment checks...         1  \n",
       "2035  as i platinum elite member of delta and a loya...         1  \n",
       "2036                                             really         1  \n",
       "2037                                  horrible decision         1  \n",
       "2038  this is a true story of what happened to me to...         1  \n",
       "\n",
       "[2039 rows x 3 columns]"
      ]
     },
     "execution_count": 49,
     "metadata": {},
     "output_type": "execute_result"
    }
   ],
   "source": [
    "y_predict = np.argmax(predict_raw, axis = 1)\n",
    "out = pd.Series(y_predict)\n",
    "df_test['category'] = out\n",
    "df_test"
   ]
  },
  {
   "cell_type": "code",
   "execution_count": 50,
   "id": "334290bd",
   "metadata": {},
   "outputs": [],
   "source": [
    "df_result = pd.get_dummies(df_test['category'], columns = ['Appreciation_pred','Complaint_pred', 'Feedback_pred'])\n",
    "df_result.columns = ['Appreciation_pred','Complaint_pred', 'Feedback_pred']\n",
    "output = pd.concat([df_test, df_result], axis = 1)\n",
    "\n",
    "output.drop(['message','category'], axis=1, inplace = True)\n",
    "output.to_csv('predictions.csv')"
   ]
  },
  {
   "cell_type": "code",
   "execution_count": 51,
   "id": "10167700",
   "metadata": {},
   "outputs": [
    {
     "data": {
      "text/html": [
       "<div>\n",
       "<style scoped>\n",
       "    .dataframe tbody tr th:only-of-type {\n",
       "        vertical-align: middle;\n",
       "    }\n",
       "\n",
       "    .dataframe tbody tr th {\n",
       "        vertical-align: top;\n",
       "    }\n",
       "\n",
       "    .dataframe thead th {\n",
       "        text-align: right;\n",
       "    }\n",
       "</style>\n",
       "<table border=\"1\" class=\"dataframe\">\n",
       "  <thead>\n",
       "    <tr style=\"text-align: right;\">\n",
       "      <th></th>\n",
       "      <th>postId</th>\n",
       "      <th>Appreciation_pred</th>\n",
       "      <th>Complaint_pred</th>\n",
       "      <th>Feedback_pred</th>\n",
       "    </tr>\n",
       "  </thead>\n",
       "  <tbody>\n",
       "    <tr>\n",
       "      <th>0</th>\n",
       "      <td>108381603303_10151119973393304</td>\n",
       "      <td>0</td>\n",
       "      <td>0</td>\n",
       "      <td>1</td>\n",
       "    </tr>\n",
       "    <tr>\n",
       "      <th>1</th>\n",
       "      <td>115568331790246_371841206162956</td>\n",
       "      <td>0</td>\n",
       "      <td>1</td>\n",
       "      <td>0</td>\n",
       "    </tr>\n",
       "    <tr>\n",
       "      <th>2</th>\n",
       "      <td>115568331790246_515044031842672</td>\n",
       "      <td>0</td>\n",
       "      <td>1</td>\n",
       "      <td>0</td>\n",
       "    </tr>\n",
       "    <tr>\n",
       "      <th>3</th>\n",
       "      <td>147285781446_10151010892176447</td>\n",
       "      <td>1</td>\n",
       "      <td>0</td>\n",
       "      <td>0</td>\n",
       "    </tr>\n",
       "    <tr>\n",
       "      <th>4</th>\n",
       "      <td>159616034235_10150639103634236</td>\n",
       "      <td>0</td>\n",
       "      <td>1</td>\n",
       "      <td>0</td>\n",
       "    </tr>\n",
       "    <tr>\n",
       "      <th>...</th>\n",
       "      <td>...</td>\n",
       "      <td>...</td>\n",
       "      <td>...</td>\n",
       "      <td>...</td>\n",
       "    </tr>\n",
       "    <tr>\n",
       "      <th>2034</th>\n",
       "      <td>179590995428478_422375854483323</td>\n",
       "      <td>0</td>\n",
       "      <td>1</td>\n",
       "      <td>0</td>\n",
       "    </tr>\n",
       "    <tr>\n",
       "      <th>2035</th>\n",
       "      <td>125472670805257_525103854175468</td>\n",
       "      <td>0</td>\n",
       "      <td>1</td>\n",
       "      <td>0</td>\n",
       "    </tr>\n",
       "    <tr>\n",
       "      <th>2036</th>\n",
       "      <td>179590995428478_377568608964048</td>\n",
       "      <td>0</td>\n",
       "      <td>1</td>\n",
       "      <td>0</td>\n",
       "    </tr>\n",
       "    <tr>\n",
       "      <th>2037</th>\n",
       "      <td>179590995428478_341070505947192</td>\n",
       "      <td>0</td>\n",
       "      <td>1</td>\n",
       "      <td>0</td>\n",
       "    </tr>\n",
       "    <tr>\n",
       "      <th>2038</th>\n",
       "      <td>60686173217_10151073988283218</td>\n",
       "      <td>0</td>\n",
       "      <td>1</td>\n",
       "      <td>0</td>\n",
       "    </tr>\n",
       "  </tbody>\n",
       "</table>\n",
       "<p>2039 rows × 4 columns</p>\n",
       "</div>"
      ],
      "text/plain": [
       "                               postId  Appreciation_pred  Complaint_pred  \\\n",
       "0      108381603303_10151119973393304                  0               0   \n",
       "1     115568331790246_371841206162956                  0               1   \n",
       "2     115568331790246_515044031842672                  0               1   \n",
       "3      147285781446_10151010892176447                  1               0   \n",
       "4      159616034235_10150639103634236                  0               1   \n",
       "...                               ...                ...             ...   \n",
       "2034  179590995428478_422375854483323                  0               1   \n",
       "2035  125472670805257_525103854175468                  0               1   \n",
       "2036  179590995428478_377568608964048                  0               1   \n",
       "2037  179590995428478_341070505947192                  0               1   \n",
       "2038    60686173217_10151073988283218                  0               1   \n",
       "\n",
       "      Feedback_pred  \n",
       "0                 1  \n",
       "1                 0  \n",
       "2                 0  \n",
       "3                 0  \n",
       "4                 0  \n",
       "...             ...  \n",
       "2034              0  \n",
       "2035              0  \n",
       "2036              0  \n",
       "2037              0  \n",
       "2038              0  \n",
       "\n",
       "[2039 rows x 4 columns]"
      ]
     },
     "execution_count": 51,
     "metadata": {},
     "output_type": "execute_result"
    }
   ],
   "source": [
    "output"
   ]
  }
 ],
 "metadata": {
  "kernelspec": {
   "display_name": "Python 3 (ipykernel)",
   "language": "python",
   "name": "python3"
  },
  "language_info": {
   "codemirror_mode": {
    "name": "ipython",
    "version": 3
   },
   "file_extension": ".py",
   "mimetype": "text/x-python",
   "name": "python",
   "nbconvert_exporter": "python",
   "pygments_lexer": "ipython3",
   "version": "3.10.4"
  }
 },
 "nbformat": 4,
 "nbformat_minor": 5
}
